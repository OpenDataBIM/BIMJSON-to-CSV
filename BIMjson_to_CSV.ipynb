{
  "cells": [
    {
      "cell_type": "code",
      "execution_count": null,
      "metadata": {
        "colab": {
          "base_uri": "https://localhost:8080/"
        },
        "id": "ZBp-fvwm0ans",
        "outputId": "2e5b322e-6814-4902-b8b3-1c359ff484d9"
      },
      "outputs": [
        {
          "name": "stdout",
          "output_type": "stream",
          "text": [
            "ID-White BIMJSON Test-R21_rvt.json\n",
            "ID-White BIMJSON Test-R21_ifc.json\n",
            "['ID-White BIMJSON Test-R21_rvt.json', 'ID-White BIMJSON Test-R21_ifc.json']\n",
            "--- 0.3022763729095459 seconds ---\n"
          ]
        }
      ],
      "source": [
        "###\n",
        "# App Name:  Converting BIMJSON files to CSV\n",
        "# App URI: https://opendatabim.io/\n",
        "# OpenDataBIM\n",
        "# This program is free software: you can redistribute it and/or modify\n",
        "# it under the terms of the GNU General Public License as published by\n",
        "# the Free Software Foundation, either version 3 of the License, or\n",
        "# (at your option) any later version.\n",
        "###\n",
        "\n",
        "import os\n",
        "\n",
        "# Path to files where BIMISON files are located\n",
        "datajson = []\n",
        "path = '/content/drive/MyDrive/BIMJSON/26112021_2'\n",
        "for filename in os.listdir(path):\n",
        "    if filename.endswith(\"json\"): \n",
        "        print(filename)\n",
        "        datajson.append(filename)"
      ]
    },
    {
      "cell_type": "code",
      "execution_count": null,
      "metadata": {},
      "outputs": [],
      "source": [
        "import json\n",
        "import pandas as pd\n",
        "\n",
        "# The function of converting each file from the folder that was specified earlier\n",
        "alldf = []\n",
        "for file in datajson:\n",
        "  fileObject = open(path+'/'+file, \"r\", encoding=\"utf8\", errors='ignore')\n",
        "  jsonContent = fileObject.read()\n",
        "  to_python = json.loads(jsonContent)\n",
        "\n",
        "  # Creating dictionaries for element IDs and their properties\n",
        "  vocabulary = to_python['data']['objects'][0]['prop'][0]['prop']\n",
        "  properties = to_python['data']['objects'][0]['prop'][1]['prop']\n",
        "  vocnames = []\n",
        "  for x in vocabulary:\n",
        "    name = x['name']\n",
        "    vocnames.append(name)\n",
        "  mass = []\n",
        "  for x in properties:\n",
        "    catname = x['name']\n",
        "    index = vocnames.index(catname)\n",
        "    propervoc = vocabulary[index]['prop']\n",
        "\n",
        "    # Getting parameter names and their values\n",
        "    for y in x['prop']:\n",
        "      mass2 = []\n",
        "      id = y['ID']\n",
        "      key2 = list(y)[1]\n",
        "      items = y[key2]\n",
        "      mass2.append(id)\n",
        "      onlyvalinvoc = []\n",
        "      onlyvalinvoc2 = []\n",
        "      for el in propervoc:\n",
        "        data2 = list(el.items())\n",
        "        for elem in data2:\n",
        "          val = elem[1]\n",
        "          propname = elem[0]\n",
        "          onlyvalinvoc.append(val)\n",
        "          onlyvalinvoc2.append(propname)\n",
        "\n",
        "      # Moving values to a list\n",
        "      for elements in items:\n",
        "        allelements = []\n",
        "        letter_list = elements.split(\",\")\n",
        "        allelements.append(onlyvalinvoc2[int(letter_list[0])])\n",
        "        allelements.append(onlyvalinvoc[int(letter_list[0])][int(letter_list[1])])\n",
        "        mass2.append(allelements)\n",
        "      mass.append(mass2)\n",
        "  \n",
        "  # Connecting parameters and their values\n",
        "  allnewarrdict = []\n",
        "  for el in mass:\n",
        "      newarrdict = []\n",
        "      dict_data = {}\n",
        "      for unel in el[1:]:\n",
        "          key = [unel[0]]\n",
        "          val = [unel[1]]\n",
        "          res = dict(zip(key,val))\n",
        "          dict_data.update(res)\n",
        "      newarrdict.append(el[0])\n",
        "      newarrdict.append(dict_data)\n",
        "      allnewarrdict.append(newarrdict)     \n",
        "  print(allnewarrdict)\n",
        "\n",
        "  # Transferring data to a DataFrame\n",
        "  dfbig = pd.DataFrame()\n",
        "  dfbig = dfbig[0:0]\n",
        "\n",
        "  #Saving data to a file in the same folder with the CSV extension\n",
        "  for el in allnewarrdict:\n",
        "    onlyfroms = el[1:][0]\n",
        "    ids = []\n",
        "    ids.append(el[0])\n",
        "    df = pd.DataFrame([onlyfroms], index = ids, columns=onlyfroms.keys())\n",
        "    dfbig = dfbig.append(df)\n",
        "  dfbig.to_csv(path + '/' + file + '.csv')\n",
        "  dfbig.to_excel(path + '/' + file + '.xlsx')\n"
      ]
    },
    {
      "cell_type": "code",
      "execution_count": null,
      "metadata": {
        "id": "GjM6VRqubJhx"
      },
      "outputs": [],
      "source": []
    }
  ],
  "metadata": {
    "accelerator": "GPU",
    "colab": {
      "collapsed_sections": [],
      "machine_shape": "hm",
      "name": "GitHub of BIMjson to Pandas.ipynb",
      "provenance": []
    },
    "kernelspec": {
      "display_name": "Python 3",
      "name": "python3"
    },
    "language_info": {
      "name": "python"
    }
  },
  "nbformat": 4,
  "nbformat_minor": 0
}
